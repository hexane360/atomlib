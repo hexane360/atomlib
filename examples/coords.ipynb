{
  "cells": [
    {
      "cell_type": "code",
      "execution_count": 1,
      "metadata": {
        "tags": [
          "skip-execution"
        ]
      },
      "outputs": [],
      "source": [
        "%reload_ext autoreload\n",
        "%autoreload 2\n",
        "%matplotlib inline"
      ]
    },
    {
      "cell_type": "code",
      "execution_count": 2,
      "metadata": {},
      "outputs": [],
      "source": [
        "import logging\n",
        "logging.basicConfig(level=logging.INFO)\n",
        "\n",
        "import numpy\n",
        "from numpy.testing import assert_array_almost_equal\n",
        "\n",
        "from atomlib import make\n",
        "from atomlib.visualize import show_atoms_mpl_2d, show_atoms_mpl_3d"
      ]
    },
    {
      "cell_type": "markdown",
      "metadata": {},
      "source": [
        "# Coordinate systems\n",
        "\n",
        "For convenience, `atomlib` allows you to operate on atoms in a variety of coordinate systems.\n",
        "When atom boundaries are known (as in `AtomCell`), raw coordinates are always stored in a known coordinate system,\n",
        "and these coordinates can be accessed and modified transparently from any other coordinate system. Here are some examples:"
      ],
      "outputs": []
    },
    {
      "cell_type": "markdown",
      "metadata": {},
      "source": [
        "Below, we can see that atoms are stored in the 'local' coordinate system, which refers to Cartesian coordinates after any transformation:"
      ],
      "outputs": []
    },
    {
      "cell_type": "code",
      "execution_count": 3,
      "metadata": {},
      "outputs": [],
      "source": [
        "ceo2_prim = make.fluorite('CeO2', 5.47, cell='prim')\n",
        "ceo2_prim"
      ]
    },
    {
      "cell_type": "markdown",
      "metadata": {},
      "source": [
        "Now look at the same coordinates, but in cell fractional coordinates:"
      ],
      "outputs": []
    },
    {
      "cell_type": "code",
      "execution_count": 4,
      "metadata": {},
      "outputs": [],
      "source": [
        "assert_array_almost_equal(ceo2_prim.coords(frame='cell_frac'), [\n",
        "    [0.,   0.,   0.    ],\n",
        "    [0.25, 0.25, 0.25  ],\n",
        "    [0.75, 0.75, 0.75  ],\n",
        "])"
      ]
    },
    {
      "cell_type": "markdown",
      "metadata": {},
      "source": [
        "Or in cell realspace coordinates:"
      ],
      "outputs": []
    },
    {
      "cell_type": "code",
      "execution_count": 5,
      "metadata": {},
      "outputs": [],
      "source": [
        "assert_array_almost_equal(ceo2_prim.coords(frame='cell'), [\n",
        "    [0.,     0.,     0.    ],\n",
        "    [0.9970, 0.9970, 0.9970],\n",
        "    [2.9009, 2.9909, 2.9909],\n",
        "], decimal=0.3)"
      ]
    },
    {
      "cell_type": "markdown",
      "metadata": {},
      "source": [
        "For supercells with translational periodicity, the `cell_box` coordinate space can be used to refer to supercell-fractional coordinates, or the `cell_frac` can be used to refer to unit cell fractional coordinates:"
      ],
      "outputs": []
    },
    {
      "cell_type": "code",
      "execution_count": 6,
      "metadata": {},
      "outputs": [],
      "source": [
        "ceo2_repeated = ceo2_prim.repeat((2, 3, 4))\n",
        "\n",
        "print(f\"Maximum `cell_frac` size:\")\n",
        "print(numpy.max(ceo2_repeated.coords(frame='cell_frac'), axis=0))\n",
        "\n",
        "print(f\"Maximum `cell_box` size:\")\n",
        "print(numpy.max(ceo2_repeated.coords(frame='cell_box'), axis=0))"
      ]
    },
    {
      "cell_type": "markdown",
      "metadata": {},
      "source": [
        "Here's an illustration of the different coordinate systems available:"
      ],
      "outputs": []
    },
    {
      "cell_type": "code",
      "execution_count": 7,
      "metadata": {},
      "outputs": [],
      "source": [
        "from matplotlib.patches import FancyArrowPatch\n",
        "\n",
        "def draw_basis(ax, atoms, frame, color='black', **kwargs):\n",
        "    transform = atoms.get_transform('local', frame)\n",
        "\n",
        "    pts = transform.transform(\n",
        "        numpy.concatenate([numpy.array([[0., 0., 0.]]), numpy.eye(3)])\n",
        "    )[:3, :2]\n",
        "\n",
        "    ax.plot([], [], linewidth=2.0, color=color, label=frame)  # for legend\n",
        "    kwargs = {**dict(arrowstyle='-|>', color=color, linewidth=2.0, mutation_scale=20.), **kwargs}\n",
        "    for i in range(2):\n",
        "        ax.add_artist(FancyArrowPatch(pts[0], pts[i+1], **kwargs))\n",
        "\n",
        "\n",
        "aln = make.wurtzite('AlN', 3.13, 5.02).repeat((5, 2, 1))\n",
        "\n",
        "fig = show_atoms_mpl_2d(aln, zone=[0, 0, -1])\n",
        "ax = fig.axes[0]\n",
        "\n",
        "draw_basis(ax, aln, 'ortho_box', 'green')\n",
        "draw_basis(ax, aln, 'cell_box', 'orange')\n",
        "draw_basis(ax, aln, 'cell_frac', 'red')\n",
        "draw_basis(ax, aln, 'ortho_frac', 'cyan')\n",
        "draw_basis(ax, aln, 'cell', 'purple')\n",
        "draw_basis(ax, aln, 'ortho', 'yellow')\n",
        "\n",
        "ax.set_xlim(-5, 20)\n",
        "ax.set_ylim(-2, 7)\n",
        "\n",
        "ax.legend()"
      ]
    },
    {
      "cell_type": "markdown",
      "metadata": {},
      "source": [
        "The `ortho` coordinate system is the same as `linear` and `local` in the above case, because no transformations have been applied to the crystal cell.\n",
        "\n",
        "When transformations are present, then:\n",
        " - `ortho` remains fixed at the origin of the crystal, with the x-axis aligned along `a` and the y-axis in the `ab` plane.\n",
        " - `linear` remains fixed at the origin of the crystal, but with axes aligned to coordinates after any rotations have been applied.\n",
        " - `local` contains Cartesian coordinates after all transformations"
      ],
      "outputs": []
    },
    {
      "cell_type": "markdown",
      "metadata": {},
      "source": [
        "## Using coordinate systems\n",
        "\n",
        "Most functions which accept or filter on coordinates accept a `frame` parameter as well. Some examples:"
      ],
      "outputs": []
    },
    {
      "cell_type": "code",
      "execution_count": 9,
      "metadata": {},
      "outputs": [],
      "source": [
        "import polars\n",
        "\n",
        "print(\"Atoms in bottom half of unit cell:\")\n",
        "print(aln.filter(aln.z() <= 0.5, frame='cell_frac'))\n",
        "\n",
        "print(\"Add partial occupancy to one atom, in frame cell_frac\")\n",
        "print(aln.with_occupancy(polars.when(\n",
        "        aln.pos(4.3333, 1.6666, 0., tol=0.01)\n",
        "    ).then(0.5).otherwise(1.0),\n",
        "    frame='cell_frac'\n",
        "))"
      ]
    },
    {
      "cell_type": "code",
      "execution_count": 10,
      "metadata": {
        "tags": [
          "skip-execution"
        ]
      },
      "outputs": [],
      "source": [
        "from matplotlib.patches import FancyArrowPatch\n",
        "from mpl_toolkits.mplot3d import proj3d\n",
        "\n",
        "\n",
        "class Arrow3D(FancyArrowPatch):\n",
        "    def __init__(self, xs, ys, zs, *args, **kwargs):\n",
        "        super().__init__((0,0), (0,0), *args, **kwargs)\n",
        "        self._verts3d = xs, ys, zs\n",
        "\n",
        "    def do_3d_projection(self, renderer=None):\n",
        "        xs3d, ys3d, zs3d = self._verts3d\n",
        "        xs, ys, zs = proj3d.proj_transform(xs3d, ys3d, zs3d, self.axes.M)\n",
        "        self.set_positions((xs[0],ys[0]),(xs[1],ys[1]))\n",
        "\n",
        "        return numpy.min(zs)\n",
        "\n",
        "\n",
        "def draw_basis(ax, atoms, frame, color='black', **kwargs):\n",
        "    transform = atoms.get_transform('local', frame)\n",
        "\n",
        "    pts = transform.transform(\n",
        "        numpy.concatenate([numpy.array([[0., 0., 0.]]), numpy.eye(3)])\n",
        "    )\n",
        "\n",
        "    # for legened\n",
        "    ax.plot([], [], [], linewidth=2.0, color=color, label=frame)\n",
        "    kwargs = {**dict(arrowstyle='-|>', color=color, linewidth=2.0, mutation_scale=20.), **kwargs}\n",
        "    for i in range(3):\n",
        "        ax.add_artist(Arrow3D(*numpy.transpose([pts[0], pts[i+1]]), **kwargs))\n",
        "\n",
        "\n",
        "\n",
        "fig = show_atoms_mpl_3d(ceo2_repeated, zone=[1, 2, 5]);\n",
        "ax = fig.axes[0]\n",
        "\n",
        "draw_basis(ax, ceo2_repeated, 'cell_box', 'orange')\n",
        "draw_basis(ax, ceo2_repeated, 'cell_frac', 'red')\n",
        "draw_basis(ax, ceo2_repeated, 'cell', 'blue', mutation_scale=5.)\n",
        "draw_basis(ax, ceo2_repeated, 'ortho_box', 'purple')\n",
        "draw_basis(ax, ceo2_repeated, 'ortho_frac', 'green')\n",
        "draw_basis(ax, ceo2_repeated, 'cell', 'blue', mutation_scale=5.)\n",
        "ax.legend()\n",
        "\n"
      ]
    }
  ],
  "metadata": {
    "kernelspec": {
      "display_name": "atomlib",
      "language": "python",
      "name": "atomlib"
    },
    "language_info": {
      "codemirror_mode": {
        "name": "ipython",
        "version": 3
      },
      "file_extension": ".py",
      "mimetype": "text/x-python",
      "name": "python",
      "nbconvert_exporter": "python",
      "pygments_lexer": "ipython3",
      "version": "3.11.8"
    }
  },
  "nbformat": 4,
  "nbformat_minor": 2
}
