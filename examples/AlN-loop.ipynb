{
  "cells": [
    {
      "cell_type": "code",
      "execution_count": 1,
      "metadata": {
        "tags": [
          "skip-execution"
        ]
      },
      "outputs": [],
      "source": [
        "%reload_ext autoreload\n",
        "%autoreload 2\n",
        "%matplotlib widget"
      ]
    },
    {
      "cell_type": "code",
      "execution_count": 2,
      "metadata": {},
      "outputs": [],
      "source": [
        "from numpy.testing import assert_array_equal\n",
        "\n",
        "import logging\n",
        "logging.basicConfig(level=logging.INFO)"
      ]
    },
    {
      "cell_type": "code",
      "execution_count": 3,
      "metadata": {},
      "outputs": [],
      "source": [
        "import atomlib\n",
        "from atomlib.visualize import show_atoms_2d, show_atoms_3d\n",
        "from atomlib.defect import disloc_loop_z, disloc_poly_z, disloc_edge"
      ]
    },
    {
      "cell_type": "code",
      "execution_count": 4,
      "metadata": {},
      "outputs": [],
      "source": [
        "cell_prim = atomlib.make.wurtzite('AlN', 3.13, 5.02, cell='prim')\n",
        "cell_ortho = atomlib.make.wurtzite('AlN', 3.13, 5.02, cell='ortho')\n",
        "\n",
        "show_atoms_3d(cell_prim);"
      ]
    },
    {
      "cell_type": "code",
      "execution_count": 5,
      "metadata": {},
      "outputs": [],
      "source": [
        "from atomlib.cell import plane_to_zone, reduce_vec\n",
        "\n",
        "assert_array_equal(plane_to_zone(cell_prim.metric, [1., 0., 0.]), [2., 1., 0.])\n",
        "assert_array_equal(reduce_vec([4., 2., 0.]), [2, 1, 0])"
      ]
    },
    {
      "cell_type": "code",
      "execution_count": 6,
      "metadata": {},
      "outputs": [],
      "source": [
        "# make supercell\n",
        "\n",
        "cell = cell_ortho.repeat((8, 5, 5)).explode()\n",
        "show_atoms_3d(cell);"
      ]
    },
    {
      "cell_type": "code",
      "execution_count": 7,
      "metadata": {},
      "outputs": [],
      "source": [
        "# add edge dislocation to supercell\n",
        "\n",
        "edge = disloc_edge(cell, center=[0., 12., 12.], b=[0., 0., 5.02/2.], t=[1., 0., 0.], cut='add')\n",
        "show_atoms_3d(edge);"
      ]
    },
    {
      "cell_type": "code",
      "execution_count": 8,
      "metadata": {},
      "outputs": [],
      "source": [
        "# add vacancies to supercell\n",
        "\n",
        "vacant = cell.with_occupancy(1 - 1000. / len(cell)).apply_occupancy()  # average 1000 vacancies\n",
        "print(f\"Removed {len(cell) - len(vacant)} atoms\")\n",
        "\n",
        "vacant.write('vacancies2.xsf')"
      ]
    },
    {
      "cell_type": "code",
      "execution_count": 9,
      "metadata": {},
      "outputs": [],
      "source": [
        "from atomlib.transform import AffineTransform3D\n",
        "import polars\n",
        "\n",
        "faults = cell.transform_atoms(AffineTransform3D.translate(0., 5.421/3, 0.), (cell.z() > 11.) & (cell.z() < 26.), frame='local')\n",
        "faults = faults.wrap()\n",
        "show_atoms_2d(faults.crop_atoms(x_min=16., x_max=30.), zone=[1,0,0]);\n",
        "\n",
        "faults.write('fault_pair.xsf')"
      ]
    },
    {
      "cell_type": "code",
      "execution_count": 11,
      "metadata": {},
      "outputs": [],
      "source": [
        "# weird hourglass dislocation shape\n",
        "\n",
        "poly = [[-8., -8.], [8., -8.], [-8., 8.], [8., 8.]]\n",
        "loop = disloc_poly_z(cell, [0., 5.421/3, 5.02/2], poly, center=cell.box_size / 2.)\n",
        "\n",
        "show_atoms_3d(loop.crop_atoms(x_min=5., x_max=20.));"
      ]
    },
    {
      "cell_type": "code",
      "execution_count": 11,
      "metadata": {},
      "outputs": [],
      "source": [
        "# circular extrinsic dislocation loop\n",
        "loop = disloc_loop_z(cell, center=cell.box_size / 2., b=[0., 5.421/3, 5.02/2.,], loop_r=8.)\n",
        "\n",
        "show_atoms_3d(loop);"
      ]
    },
    {
      "cell_type": "code",
      "execution_count": null,
      "metadata": {},
      "outputs": [],
      "source": []
    }
  ],
  "metadata": {
    "kernelspec": {
      "display_name": "atomlib",
      "language": "python",
      "name": "atomlib"
    },
    "language_info": {
      "codemirror_mode": {
        "name": "ipython",
        "version": 3
      },
      "file_extension": ".py",
      "mimetype": "text/x-python",
      "name": "python",
      "nbconvert_exporter": "python",
      "pygments_lexer": "ipython3",
      "version": "3.11.8"
    },
    "orig_nbformat": 4,
    "vscode": {
      "interpreter": {
        "hash": "3b4510b6594d2264a4ec28a0d4157eaeef87167a073021e04563548f9f8d20fd"
      }
    }
  },
  "nbformat": 4,
  "nbformat_minor": 2
}
