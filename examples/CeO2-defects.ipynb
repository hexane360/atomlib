{
  "cells": [
    {
      "cell_type": "code",
      "execution_count": 1,
      "metadata": {
        "tags": [
          "skip-execution"
        ]
      },
      "outputs": [],
      "source": [
        "%reload_ext autoreload\n",
        "%autoreload 2\n",
        "%matplotlib widget"
      ]
    },
    {
      "cell_type": "code",
      "execution_count": 2,
      "metadata": {},
      "outputs": [],
      "source": [
        "import logging\n",
        "logging.basicConfig(level=logging.INFO)\n",
        "from pathlib import Path\n",
        "\n",
        "import numpy\n",
        "\n",
        "from atomlib import make\n",
        "from atomlib.visualize import show_atoms_2d, show_atoms_3d\n",
        "from atomlib.testing import assert_structure_equal, assert_files_equal"
      ]
    },
    {
      "cell_type": "code",
      "execution_count": 3,
      "metadata": {},
      "outputs": [],
      "source": [
        "out_path = Path(\"\").expanduser().resolve()\n",
        "out_path.mkdir(exist_ok=True)"
      ]
    },
    {
      "cell_type": "code",
      "execution_count": 4,
      "metadata": {},
      "outputs": [],
      "source": [
        "ceo2_conv = make.fluorite('CeO2', 5.47, cell='conv')\n",
        "ceo2_prim = make.fluorite('CeO2', 5.47, cell='prim')\n",
        "assert_structure_equal('CeO2_prim.xsf', ceo2_prim)\n",
        "\n",
        "wobbles = {\n",
        "    'Ce': 0.43 * 3/(8*numpy.pi**2),\n",
        "    'O': 0.75 * 3/(8*numpy.pi**2),\n",
        "}\n",
        "\n",
        "ceo2_conv = ceo2_conv.with_wobble(wobbles)\n",
        "ceo2_prim = ceo2_prim.with_wobble(wobbles)\n",
        "\n",
        "\n",
        "print(ceo2_prim)"
      ]
    },
    {
      "cell_type": "code",
      "execution_count": 5,
      "metadata": {},
      "outputs": [],
      "source": [
        "from atomlib.io import write_qe\n",
        "\n",
        "write_qe(ceo2_conv, out_path / 'CeO2_pure.qe', {'Ce': 'Ce.GGA-PBE-paw-v1.0.UPF', 'O': 'O.pbe-n-kjpaw_psl.0.1.UPF'})\n",
        "\n",
        "assert_files_equal('CeO2_pure.qe', out_path / 'CeO2_pure.qe')"
      ]
    },
    {
      "cell_type": "code",
      "execution_count": 10,
      "metadata": {},
      "outputs": [],
      "source": [
        "ceo2_110_unit = make.slab(ceo2_prim, (1, 0, 0), (0, 1, 0))\n",
        "ceo2_110 = ceo2_110_unit \\\n",
        "               .repeat_to_aspect(max_size=60.) \\\n",
        "               .repeat_to_z(200.)\n",
        "print(f\"cell size: {ceo2_110_unit.box_size} A\")\n",
        "print(f\"supercell size: {ceo2_110.box_size} A\")\n",
        "\n",
        "ceo2_110_out = ceo2_110.round_near_zero()\n",
        "ceo2_110.write(out_path / 'CeO2_110_pure.xsf')\n",
        "\n",
        "assert_structure_equal('CeO2_110_pure_supercell.xsf', out_path / 'CeO2_110_pure.xsf')\n",
        "\n",
        "show_atoms_3d(ceo2_110);"
      ]
    },
    {
      "cell_type": "code",
      "execution_count": 7,
      "metadata": {},
      "outputs": [],
      "source": [
        "import polars\n",
        "\n",
        "ceo2_110_gd = ceo2_110.with_symbol('Gd', ceo2_110.pos(1.0, 1.0, 0.0), frame='cell_frac')\n",
        "ceo2_110_gd.write(out_path / 'CeO2_110_Gd_1.xsf')\n",
        "assert_structure_equal('CeO2_110_Gd_1.xsf', out_path / 'CeO2_110_Gd_1.xsf')\n",
        "\n",
        "assert len(ceo2_110_gd.filter(polars.col('elem') == 64)) == 1\n",
        "\n",
        "ceo2_110_gd_all = ceo2_110.with_symbol('Gd', ceo2_110.pos(x=1.0, y=1.0), frame='cell_frac')\n",
        "ceo2_110_gd_all.write(out_path / 'CeO2_110_Gd_all.xsf')\n",
        "assert_structure_equal('CeO2_110_Gd_all.xsf', out_path / 'CeO2_110_Gd_all.xsf')\n",
        "\n",
        "assert len(ceo2_110_gd_all.filter(polars.col('symbol') == 'Gd')) == 52\n",
        "\n",
        "ceo2_110_v_ce = ceo2_110.filter(ceo2_110.pos(1.0, 1.0, 3.0).is_not(), frame='cell_frac')\n",
        "ceo2_110_v_ce.write(out_path / 'CeO2_110_V_1.xsf')\n",
        "assert_structure_equal('CeO2_110_V_1.xsf', out_path / 'CeO2_110_V_1.xsf')\n",
        "\n",
        "assert len(ceo2_110_v_ce.filter(polars.col('elem') == 58)) == len(ceo2_110.filter(polars.col('elem') == 58)) - 1"
      ]
    },
    {
      "cell_type": "code",
      "execution_count": 7,
      "metadata": {
        "tags": [
          "skip-execution"
        ]
      },
      "outputs": [],
      "source": [
        "scan_frac_110 = 2 / ceo2_110.cell.n_cells[:2]\n",
        "scan_size_110 = ceo2_110.cell.box_size[:2] * scan_frac_110\n",
        "scan_points_110 = numpy.ceil(4*scan_size_110*20e-3 / 0.0251).astype(int)\n",
        "\n",
        "slice_thickness_110 = ceo2_110.cell.cell_size[2] / 2.\n",
        "\n",
        "print(f\"slice_thickness: {slice_thickness_110}\")\n",
        "print(f\"scan_points: {scan_points_110}\")\n",
        "print(f\"scan_step: {scan_size_110 / scan_points_110}\")\n",
        "\n",
        "zone = \"110\"\n",
        "for (cell, name) in zip([ceo2_110, ceo2_110_gd, ceo2_110_gd_all, ceo2_110_v_ce],\n",
        "                        [\"pure\", \"Gd_Ce_1\", \"Gd_Ce_all\", \"V_Ce_1\"]):\n",
        "    cell.write(out_path / f\"CeO2_{zone}_{name}.xsf\")\n",
        "\n",
        "    for (template, suffix) in zip(['template.mslice', 'template_tds.mslice', 'template_ptycho.mslice'],\n",
        "                                ['', '_tds', '_tds_over20']):\n",
        "        cell.write_mslice(\n",
        "            out_path / f\"CeO2_{zone}_{name}{suffix}.mslice\", template=out_path / template,\n",
        "            slice_thickness=slice_thickness_110,\n",
        "            scan_points=scan_points_110,\n",
        "            scan_extent=scan_frac_110\n",
        "        )"
      ]
    }
  ],
  "metadata": {
    "kernelspec": {
      "display_name": "venv",
      "language": "python",
      "name": "python3"
    },
    "language_info": {
      "codemirror_mode": {
        "name": "ipython",
        "version": 3
      },
      "file_extension": ".py",
      "mimetype": "text/x-python",
      "name": "python",
      "nbconvert_exporter": "python",
      "pygments_lexer": "ipython3",
      "version": "3.10.11"
    },
    "orig_nbformat": 4
  },
  "nbformat": 4,
  "nbformat_minor": 2
}
