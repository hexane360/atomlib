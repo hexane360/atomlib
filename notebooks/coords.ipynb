{
  "cells": [
    {
      "cell_type": "code",
      "execution_count": 1,
      "metadata": {},
      "outputs": [],
      "source": [
        "%reload_ext autoreload\n",
        "%autoreload 2\n",
        "%matplotlib widget\n",
        "\n",
        "from pathlib import Path\n",
        "\n",
        "import logging\n",
        "logging.basicConfig(level=logging.INFO)\n",
        "\n",
        "import numpy"
      ]
    },
    {
      "cell_type": "code",
      "execution_count": 8,
      "metadata": {},
      "outputs": [],
      "source": [
        "import matplotlib\n",
        "from mpl_toolkits.mplot3d import Axes3D\n",
        "from matplotlib import pyplot\n",
        "\n",
        "from structlib.visualize import show_atoms_mpl_3d\n",
        "from structlib.vec import split_arr\n",
        "from structlib.transform import Transform\n",
        "\n",
        "def plot_corners(ax: Axes3D, transform: Transform, fmt='.-k', alpha=1, markersize=8, label=None, **kwargs):\n",
        "    corners = numpy.stack(list(map(numpy.ravel, numpy.meshgrid((0, 1), (0, 1), (0, 1), indexing='ij'))), axis=-1)\n",
        "    corners = transform @ corners\n",
        "    faces = [\n",
        "        numpy.array([\n",
        "            corners[(val*2**axis + v1*2**((axis+1) % 3) + v2*2**((axis+2) % 3))]\n",
        "            for (v1, v2) in [(0, 0), (0, 1), (1, 1), (1, 0), (0, 0)]\n",
        "        ])\n",
        "        for axis in (0, 1, 2)\n",
        "        for val in (0, 1)\n",
        "    ]\n",
        "    for i, face in enumerate(faces):\n",
        "        ax.plot3D(*split_arr(face, axis=-1), fmt, alpha=alpha, markersize=markersize, label=label if i == 0 else None, **kwargs)"
      ]
    },
    {
      "cell_type": "code",
      "execution_count": 3,
      "metadata": {},
      "outputs": [],
      "source": [
        "from structlib.cell import cell_to_ortho, Cell\n",
        "\n",
        "mono_ortho = cell_to_ortho([3., 4., 5.], [numpy.pi/2., numpy.pi/2., 1.8])\n",
        "    #.rotate([0., 0., 1.], numpy.pi/2.)\n",
        "cell = Cell.from_ortho(mono_ortho, n_cells=[2, 3, 5])"
      ]
    },
    {
      "cell_type": "code",
      "execution_count": 9,
      "metadata": {},
      "outputs": [],
      "source": [
        "fig = pyplot.figure()\n",
        "ax: Axes3D = fig.add_axes([0., 0., 1., 1.], axes_class=Axes3D, proj_type='ortho')\n",
        "\n",
        "plot_corners(ax, cell.get_transform(frame_from='cell_box'), '.:k', label='cell_box')\n",
        "plot_corners(ax, cell.get_transform(frame_from='ortho_box'), '.:r', label='ortho_box')\n",
        "plot_corners(ax, cell.get_transform(frame_from='cell_frac'), '.-k', label='cell_frac')\n",
        "plot_corners(ax, cell.get_transform(frame_from='ortho_frac'), '.-r', label='ortho_frac')\n",
        "\n",
        "ax.legend()"
      ]
    },
    {
      "cell_type": "code",
      "execution_count": 17,
      "metadata": {},
      "outputs": [],
      "source": [
        "cell.get_transform(frame_from='ortho_box') @ [0., 1., 0.]"
      ]
    }
  ],
  "metadata": {
    "kernelspec": {
      "display_name": "venv",
      "language": "python",
      "name": "python3"
    },
    "language_info": {
      "codemirror_mode": {
        "name": "ipython",
        "version": 3
      },
      "file_extension": ".py",
      "mimetype": "text/x-python",
      "name": "python",
      "nbconvert_exporter": "python",
      "pygments_lexer": "ipython3",
      "version": "3.10.9"
    },
    "orig_nbformat": 4,
    "vscode": {
      "interpreter": {
        "hash": "3b4510b6594d2264a4ec28a0d4157eaeef87167a073021e04563548f9f8d20fd"
      }
    }
  },
  "nbformat": 4,
  "nbformat_minor": 2
}
