{
  "cells": [
    {
      "cell_type": "code",
      "execution_count": 1,
      "metadata": {},
      "outputs": [],
      "source": [
        "%reload_ext autoreload\n",
        "%autoreload 2\n",
        "%matplotlib widget\n",
        "\n",
        "from pathlib import Path\n",
        "\n",
        "import logging\n",
        "logging.basicConfig(level=logging.INFO)\n",
        "\n",
        "import numpy"
      ]
    },
    {
      "cell_type": "code",
      "execution_count": 2,
      "metadata": {},
      "outputs": [],
      "source": [
        "from structlib import AtomCell, SimpleAtoms\n",
        "from structlib.visualize import show_atoms_3d\n",
        "from structlib.disloc import disloc_loop_z"
      ]
    },
    {
      "cell_type": "code",
      "execution_count": 3,
      "metadata": {},
      "outputs": [],
      "source": [
        "cell: AtomCell = AtomCell.read(Path('AlN-ortho.xsf'))\n",
        "\n",
        "print(str(cell.cell_size))\n",
        "\n",
        "cell = cell.repeat((16, 10, 10), explode=True)\n",
        "\n",
        "show_atoms_3d(cell);"
      ]
    },
    {
      "cell_type": "code",
      "execution_count": 5,
      "metadata": {},
      "outputs": [],
      "source": [
        "loop = disloc_loop_z(cell, center=[24., 24., 20.], b=[0., 0., 5.02/2.,], loop_r=15.)\n",
        "\n",
        "#show_atoms_3d(loop);\n",
        "show_atoms_3d(loop.crop_atoms(x_min=16., x_max=30.));\n",
        "#loop"
      ]
    },
    {
      "cell_type": "code",
      "execution_count": 6,
      "metadata": {},
      "outputs": [],
      "source": [
        "from structlib.visualize import show_atoms_mpl_2d\n",
        "\n",
        "show_atoms_mpl_2d(loop, zone=[1., 0., 0.], horz=[0., 1., 0.]);"
      ]
    },
    {
      "cell_type": "code",
      "execution_count": 8,
      "metadata": {},
      "outputs": [],
      "source": [
        "loop.write(\"loop.xsf\")"
      ]
    },
    {
      "cell_type": "code",
      "execution_count": 7,
      "metadata": {},
      "outputs": [],
      "source": [
        "from structlib.disloc import ellip_pi, ellipk, ellipe\n",
        "from matplotlib import pyplot\n",
        "\n",
        "fig, ax = pyplot.subplots()\n",
        "\n",
        "xs = numpy.linspace(-40., 40., 100)\n",
        "(xs, ys) = numpy.meshgrid(xs, xs)\n",
        "z = 5.\n",
        "loop_r = 10.\n",
        "\n",
        "rho = numpy.sqrt(xs**2 + ys**2)\n",
        "r2 = xs**2 + ys**2 + z**2\n",
        "r = numpy.sqrt(r2)\n",
        "\n",
        "m = 4*loop_r*rho / (loop_r**2 + r2 + 2*loop_r*rho)\n",
        "n1 = 2 * rho / (rho - r)  # type: ignore\n",
        "n2 = 2 * rho / (rho + r)\n",
        "\n",
        "fig.colorbar(ax.contourf(xs, ys, ellipe(m)))\n",
        "\n",
        "pyplot.show()"
      ]
    }
  ],
  "metadata": {
    "kernelspec": {
      "display_name": "Python 3.10.6 ('venv': venv)",
      "language": "python",
      "name": "python3"
    },
    "language_info": {
      "codemirror_mode": {
        "name": "ipython",
        "version": 3
      },
      "file_extension": ".py",
      "mimetype": "text/x-python",
      "name": "python",
      "nbconvert_exporter": "python",
      "pygments_lexer": "ipython3",
      "version": "3.10.6"
    },
    "orig_nbformat": 4,
    "vscode": {
      "interpreter": {
        "hash": "3b4510b6594d2264a4ec28a0d4157eaeef87167a073021e04563548f9f8d20fd"
      }
    }
  },
  "nbformat": 4,
  "nbformat_minor": 2
}
