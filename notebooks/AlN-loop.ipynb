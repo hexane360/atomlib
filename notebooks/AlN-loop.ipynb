{
 "cells": [
  {
   "cell_type": "code",
   "execution_count": null,
   "metadata": {},
   "outputs": [],
   "source": [
    "%reload_ext autoreload\n",
    "%autoreload 2\n",
    "%matplotlib widget\n",
    "\n",
    "from pathlib import Path\n",
    "\n",
    "import logging\n",
    "logging.basicConfig(level=logging.INFO)\n",
    "\n",
    "import numpy"
   ]
  },
  {
   "cell_type": "code",
   "execution_count": null,
   "metadata": {},
   "outputs": [],
   "source": [
    "from structlib import AtomCell, SimpleAtoms\n",
    "from structlib.visualize import show_atoms_3d\n",
    "from structlib.disloc import disloc_loop_z"
   ]
  },
  {
   "cell_type": "code",
   "execution_count": null,
   "metadata": {},
   "outputs": [],
   "source": [
    "cell: AtomCell = AtomCell.read(Path('AlN-ortho.xsf'))\n",
    "\n",
    "print(str(cell.cell_size))\n",
    "\n",
    "cell = cell.repeat((8, 5, 5), explode=True)\n",
    "\n",
    "show_atoms_3d(cell);"
   ]
  },
  {
   "cell_type": "code",
   "execution_count": null,
   "metadata": {},
   "outputs": [],
   "source": [
    "import polars\n",
    "\n",
    "frame = cell.get_atoms('local')\n",
    "\n",
    "frame.select((polars.col('x') > 0.))"
   ]
  },
  {
   "cell_type": "code",
   "execution_count": null,
   "metadata": {},
   "outputs": [],
   "source": [
    "loop = disloc_loop_z(cell, center=[12., 12., 10.], b=[0., 0., -5.02/2.,], loop_r=10.)\n",
    "\n",
    "#show_atoms_3d(loop);\n",
    "show_atoms_3d(loop.crop_atoms(x_min=5., x_max=15.));\n",
    "#loop"
   ]
  },
  {
   "cell_type": "code",
   "execution_count": null,
   "metadata": {},
   "outputs": [],
   "source": []
  }
 ],
 "metadata": {
  "kernelspec": {
   "display_name": "Python 3.10.6 ('venv': venv)",
   "language": "python",
   "name": "python3"
  },
  "language_info": {
   "codemirror_mode": {
    "name": "ipython",
    "version": 3
   },
   "file_extension": ".py",
   "mimetype": "text/x-python",
   "name": "python",
   "nbconvert_exporter": "python",
   "pygments_lexer": "ipython3",
   "version": "3.10.6"
  },
  "orig_nbformat": 4,
  "vscode": {
   "interpreter": {
    "hash": "3b4510b6594d2264a4ec28a0d4157eaeef87167a073021e04563548f9f8d20fd"
   }
  }
 },
 "nbformat": 4,
 "nbformat_minor": 2
}
