{
  "cells": [
    {
      "cell_type": "code",
      "execution_count": 1,
      "metadata": {},
      "outputs": [],
      "source": [
        "%reload_ext autoreload\n",
        "%autoreload 2\n",
        "%matplotlib widget\n",
        "\n",
        "from pathlib import Path\n",
        "\n",
        "import logging\n",
        "logging.basicConfig(level=logging.INFO)\n",
        "\n",
        "import numpy"
      ]
    },
    {
      "cell_type": "code",
      "execution_count": 3,
      "metadata": {},
      "outputs": [],
      "source": [
        "import structlib\n",
        "from structlib import AtomCell, SimpleAtoms\n",
        "from structlib.visualize import show_atoms_3d\n",
        "from structlib.disloc import disloc_loop_z, disloc_poly_z, disloc_edge"
      ]
    },
    {
      "cell_type": "code",
      "execution_count": 4,
      "metadata": {},
      "outputs": [],
      "source": [
        "cell = structlib.make.wurtzite('AlN', 3.13, 5.02, cell='prim')\n",
        "show_atoms_3d(cell);"
      ]
    },
    {
      "cell_type": "code",
      "execution_count": 5,
      "metadata": {},
      "outputs": [],
      "source": [
        "from structlib.cell import plane_to_zone\n",
        "from structlib.util import reduce_vec\n",
        "\n",
        "plane_to_zone(cell.metric, [1., 0., 0.])"
      ]
    },
    {
      "cell_type": "code",
      "execution_count": 5,
      "metadata": {},
      "outputs": [],
      "source": [
        "cell: AtomCell = AtomCell.read(Path('AlN-ortho.xsf'))\n",
        "\n",
        "show_atoms_3d(cell);\n",
        "\n",
        "print(str(cell.cell_size))\n",
        "\n",
        "cell = cell.repeat((8, 5, 5), explode=True)\n",
        "#cell = cell.repeat(3, explode=True)\n",
        "\n",
        "show_atoms_3d(cell);"
      ]
    },
    {
      "cell_type": "code",
      "execution_count": 83,
      "metadata": {},
      "outputs": [],
      "source": [
        "edge = disloc_edge(cell, center=[0., 12., 12.], b=[0., 0., 5.02/2.], t=[1., 0., 0.], cut='add')\n",
        "show_atoms_3d(edge);"
      ]
    },
    {
      "cell_type": "code",
      "execution_count": 7,
      "metadata": {},
      "outputs": [],
      "source": [
        "frame = cell.get_atoms('local').with_occupancy(1 - 1000. / len(cell))  # average 1000 vacancies\n",
        "frame = frame.apply_occupancy()\n",
        "print(f\"Removed {len(cell) - len(frame)} atoms\")\n",
        "\n",
        "vacant = cell._replace_atoms(frame, 'local')\n",
        "\n",
        "vacant.write('vacancies2.xsf')\n",
        "vacant.write('vacancies2.lmp')"
      ]
    },
    {
      "cell_type": "code",
      "execution_count": 48,
      "metadata": {},
      "outputs": [],
      "source": [
        "from structlib.transform import AffineTransform\n",
        "import polars\n",
        "\n",
        "faults = cell._replace_atoms(cell.atoms.transform(AffineTransform.translate(0., 5.421/3, 0.), (polars.col('z') > 11.) & (polars.col('z') < 26.)))\n",
        "faults = faults.wrap()\n",
        "show_atoms_mpl_2d(faults.crop_atoms(x_min=16., x_max=30.), zone=[1,0,0]);\n",
        "\n",
        "faults.write('fault_pair.xsf')\n",
        "faults.write('fault_pair.lmp')"
      ]
    },
    {
      "cell_type": "code",
      "execution_count": 13,
      "metadata": {},
      "outputs": [],
      "source": [
        "#poly = [[10., 10.], [40., 10.], [10., 40.], [40., 40.]]\n",
        "\n",
        "#loop = disloc_poly_z(cell, [0., 5.421/3, 5.02/2], poly, center=[0., 0., 20.])\n",
        "\n",
        "loop = disloc_loop_z(cell, center=[3.*24., 3.*24., 3.*20.], b=[0., 5.421/3, 5.02/2.,], loop_r=15.)\n",
        "\n",
        "show_atoms_3d(loop.crop_atoms(x_min=3.*16., x_max=3.*30.));\n",
        "#show_atoms_3d(loop);\n",
        "#loop"
      ]
    },
    {
      "cell_type": "code",
      "execution_count": 5,
      "metadata": {},
      "outputs": [],
      "source": [
        "from structlib.transform import LinearTransform\n",
        "\n",
        "LinearTransform.align_to([1., 1., 1.], [0., 0., 1.], [0., 1., 0.], [1., 0., 1.])"
      ]
    },
    {
      "cell_type": "code",
      "execution_count": 14,
      "metadata": {},
      "outputs": [],
      "source": [
        "from structlib.visualize import show_atoms_mpl_2d\n",
        "\n",
        "show_atoms_mpl_2d(loop, zone=[1., 0., 0.], horz=[0., 1., 0.]);"
      ]
    },
    {
      "cell_type": "code",
      "execution_count": 15,
      "metadata": {},
      "outputs": [],
      "source": [
        "loop.write(\"loop_extrinsic_large.xsf\")\n",
        "loop.write(\"loop_extrinsic_large.lmp\")\n",
        "#loop.write(\"loop_extrinsic_as_hour.xsf\")\n",
        "#loop.write(\"loop_extrinsic_as_hour.lmp\")"
      ]
    }
  ],
  "metadata": {
    "kernelspec": {
      "display_name": "Python 3.10.6 ('venv': venv)",
      "language": "python",
      "name": "python3"
    },
    "language_info": {
      "codemirror_mode": {
        "name": "ipython",
        "version": 3
      },
      "file_extension": ".py",
      "mimetype": "text/x-python",
      "name": "python",
      "nbconvert_exporter": "python",
      "pygments_lexer": "ipython3",
      "version": "3.10.7"
    },
    "orig_nbformat": 4,
    "vscode": {
      "interpreter": {
        "hash": "3b4510b6594d2264a4ec28a0d4157eaeef87167a073021e04563548f9f8d20fd"
      }
    }
  },
  "nbformat": 4,
  "nbformat_minor": 2
}
