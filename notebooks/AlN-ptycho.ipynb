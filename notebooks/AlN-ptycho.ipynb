{
 "cells": [
  {
   "cell_type": "code",
   "execution_count": 27,
   "metadata": {},
   "outputs": [],
   "source": [
    "%reload_ext autoreload\n",
    "%autoreload 2\n",
    "\n",
    "from pathlib import Path\n",
    "\n",
    "import numpy\n",
    "\n",
    "from structlib import Structure"
   ]
  },
  {
   "cell_type": "code",
   "execution_count": 28,
   "metadata": {},
   "outputs": [
    {
     "data": {
      "text/plain": [
       "Structure(atoms=      atomic_number        a          b        c symbol  frac_occupancy\n",
       "0                13   2.5100   0.905360   -1.565     Al             1.0\n",
       "1                13   2.5100   3.616020    0.000     Al             1.0\n",
       "2                 7   4.4176   0.905360   -1.565      N             1.0\n",
       "3                 7   4.4176   3.616020    0.000      N             1.0\n",
       "4                 7   1.9076   1.805299    0.000      N             1.0\n",
       "...             ...      ...        ...      ...    ...             ...\n",
       "7995              7  24.4976  25.301296 -122.070      N             1.0\n",
       "7996              7  21.9876  23.490575 -122.070      N             1.0\n",
       "7997              7  21.9876  26.201235 -123.635      N             1.0\n",
       "7998             13  20.0800  23.490575 -122.070     Al             1.0\n",
       "7999             13  20.0800  26.201235 -123.635     Al             1.0\n",
       "\n",
       "[8000 rows x 6 columns], symmetry_sites=[], cell_size=Vec3([ 25.1       ,  27.10659515, 125.2       ]), cell_angle=Vec3([1.57079633, 1.57079633, 1.57079633]), n_cells=Vec3([1, 1, 1]), global_transform=AffineTransform(\n",
       "array([[1., 0., 0., 0.],\n",
       "       [0., 1., 0., 0.],\n",
       "       [0., 0., 1., 0.],\n",
       "       [0., 0., 0., 1.]])\n",
       "), ortho=LinearTransform(\n",
       "array([[   0.        ,    0.        , -125.2       ],\n",
       "       [   0.        ,   27.10659515,    0.        ],\n",
       "       [  25.1       ,    0.        ,    0.        ]])\n",
       "), ortho_inv=LinearTransform(\n",
       "array([[ 0.        ,  0.        ,  0.03984064],\n",
       "       [ 0.        ,  0.03689139,  0.        ],\n",
       "       [-0.00798722, -0.        , -0.        ]])\n",
       "), metric=LinearTransform(\n",
       "array([[15675.04      ,     0.        ,     0.        ],\n",
       "       [    0.        ,   734.76750063,     0.        ],\n",
       "       [    0.        ,     0.        ,   630.01      ]])\n",
       "), metric_inv=LinearTransform(\n",
       "array([[6.37956905e-05, 0.00000000e+00, 0.00000000e+00],\n",
       "       [0.00000000e+00, 1.36097473e-03, 0.00000000e+00],\n",
       "       [0.00000000e+00, 0.00000000e+00, 1.58727639e-03]])\n",
       "), ortho_global=AffineTransform(\n",
       "array([[   0.        ,    0.        , -125.2       ,    0.        ],\n",
       "       [   0.        ,   27.10659515,    0.        ,    0.        ],\n",
       "       [  25.1       ,    0.        ,    0.        ,    0.        ],\n",
       "       [   0.        ,    0.        ,    0.        ,    1.        ]])\n",
       "), _init=True)"
      ]
     },
     "execution_count": 28,
     "metadata": {},
     "output_type": "execute_result"
    }
   ],
   "source": [
    "path = Path(\"~/Documents/research/AlN/ptycho\").expanduser()\n",
    "structure = Structure.from_file(path / 'AlN-super.xsf');\n",
    "structure"
   ]
  },
  {
   "cell_type": "code",
   "execution_count": 29,
   "metadata": {},
   "outputs": [
    {
     "data": {
      "text/html": [
       "<div>\n",
       "<style scoped>\n",
       "    .dataframe tbody tr th:only-of-type {\n",
       "        vertical-align: middle;\n",
       "    }\n",
       "\n",
       "    .dataframe tbody tr th {\n",
       "        vertical-align: top;\n",
       "    }\n",
       "\n",
       "    .dataframe thead th {\n",
       "        text-align: right;\n",
       "    }\n",
       "</style>\n",
       "<table border=\"1\" class=\"dataframe\">\n",
       "  <thead>\n",
       "    <tr style=\"text-align: right;\">\n",
       "      <th></th>\n",
       "      <th>atomic_number</th>\n",
       "      <th>a</th>\n",
       "      <th>b</th>\n",
       "      <th>c</th>\n",
       "      <th>frac_occupancy</th>\n",
       "    </tr>\n",
       "  </thead>\n",
       "  <tbody>\n",
       "    <tr>\n",
       "      <th>count</th>\n",
       "      <td>8000.000000</td>\n",
       "      <td>8000.0000</td>\n",
       "      <td>8000.000000</td>\n",
       "      <td>8000.000000</td>\n",
       "      <td>8000.0</td>\n",
       "    </tr>\n",
       "    <tr>\n",
       "      <th>mean</th>\n",
       "      <td>10.000000</td>\n",
       "      <td>12.2488</td>\n",
       "      <td>13.553298</td>\n",
       "      <td>-61.817500</td>\n",
       "      <td>1.0</td>\n",
       "    </tr>\n",
       "    <tr>\n",
       "      <th>std</th>\n",
       "      <td>3.000188</td>\n",
       "      <td>7.2727</td>\n",
       "      <td>7.799256</td>\n",
       "      <td>36.141562</td>\n",
       "      <td>0.0</td>\n",
       "    </tr>\n",
       "    <tr>\n",
       "      <th>min</th>\n",
       "      <td>7.000000</td>\n",
       "      <td>0.0000</td>\n",
       "      <td>0.905360</td>\n",
       "      <td>-123.635000</td>\n",
       "      <td>1.0</td>\n",
       "    </tr>\n",
       "    <tr>\n",
       "      <th>25%</th>\n",
       "      <td>7.000000</td>\n",
       "      <td>6.4507</td>\n",
       "      <td>7.001634</td>\n",
       "      <td>-92.726250</td>\n",
       "      <td>1.0</td>\n",
       "    </tr>\n",
       "    <tr>\n",
       "      <th>50%</th>\n",
       "      <td>10.000000</td>\n",
       "      <td>12.2488</td>\n",
       "      <td>13.553298</td>\n",
       "      <td>-61.817500</td>\n",
       "      <td>1.0</td>\n",
       "    </tr>\n",
       "    <tr>\n",
       "      <th>75%</th>\n",
       "      <td>13.000000</td>\n",
       "      <td>18.0469</td>\n",
       "      <td>20.104962</td>\n",
       "      <td>-30.908750</td>\n",
       "      <td>1.0</td>\n",
       "    </tr>\n",
       "    <tr>\n",
       "      <th>max</th>\n",
       "      <td>13.000000</td>\n",
       "      <td>24.4976</td>\n",
       "      <td>26.201235</td>\n",
       "      <td>0.000000</td>\n",
       "      <td>1.0</td>\n",
       "    </tr>\n",
       "  </tbody>\n",
       "</table>\n",
       "</div>"
      ],
      "text/plain": [
       "       atomic_number          a            b            c  frac_occupancy\n",
       "count    8000.000000  8000.0000  8000.000000  8000.000000          8000.0\n",
       "mean       10.000000    12.2488    13.553298   -61.817500             1.0\n",
       "std         3.000188     7.2727     7.799256    36.141562             0.0\n",
       "min         7.000000     0.0000     0.905360  -123.635000             1.0\n",
       "25%         7.000000     6.4507     7.001634   -92.726250             1.0\n",
       "50%        10.000000    12.2488    13.553298   -61.817500             1.0\n",
       "75%        13.000000    18.0469    20.104962   -30.908750             1.0\n",
       "max        13.000000    24.4976    26.201235     0.000000             1.0"
      ]
     },
     "execution_count": 29,
     "metadata": {},
     "output_type": "execute_result"
    }
   ],
   "source": [
    "structure.atoms.describe()"
   ]
  },
  {
   "cell_type": "code",
   "execution_count": 30,
   "metadata": {},
   "outputs": [],
   "source": [
    "structure.atoms['c'] += structure.cell_size[2]\n",
    "\n",
    "structure.atoms['wobble'] = 0.097  # sqrt(0.30e-2 + 0.65e-2)\n",
    "\n",
    "structure.atoms.loc[structure.atoms['c'] < 25.2, 'wobble'] = 4."
   ]
  },
  {
   "cell_type": "code",
   "execution_count": 15,
   "metadata": {},
   "outputs": [
    {
     "data": {
      "text/html": [
       "<div>\n",
       "<style scoped>\n",
       "    .dataframe tbody tr th:only-of-type {\n",
       "        vertical-align: middle;\n",
       "    }\n",
       "\n",
       "    .dataframe tbody tr th {\n",
       "        vertical-align: top;\n",
       "    }\n",
       "\n",
       "    .dataframe thead th {\n",
       "        text-align: right;\n",
       "    }\n",
       "</style>\n",
       "<table border=\"1\" class=\"dataframe\">\n",
       "  <thead>\n",
       "    <tr style=\"text-align: right;\">\n",
       "      <th></th>\n",
       "      <th>atomic_number</th>\n",
       "      <th>a</th>\n",
       "      <th>b</th>\n",
       "      <th>c</th>\n",
       "      <th>symbol</th>\n",
       "      <th>frac_occupancy</th>\n",
       "      <th>wobble</th>\n",
       "    </tr>\n",
       "  </thead>\n",
       "  <tbody>\n",
       "    <tr>\n",
       "      <th>0</th>\n",
       "      <td>13</td>\n",
       "      <td>2.5100</td>\n",
       "      <td>0.905360</td>\n",
       "      <td>-1.565</td>\n",
       "      <td>Al</td>\n",
       "      <td>1.0</td>\n",
       "      <td>4.000</td>\n",
       "    </tr>\n",
       "    <tr>\n",
       "      <th>1</th>\n",
       "      <td>13</td>\n",
       "      <td>2.5100</td>\n",
       "      <td>3.616020</td>\n",
       "      <td>0.000</td>\n",
       "      <td>Al</td>\n",
       "      <td>1.0</td>\n",
       "      <td>4.000</td>\n",
       "    </tr>\n",
       "    <tr>\n",
       "      <th>2</th>\n",
       "      <td>7</td>\n",
       "      <td>4.4176</td>\n",
       "      <td>0.905360</td>\n",
       "      <td>-1.565</td>\n",
       "      <td>N</td>\n",
       "      <td>1.0</td>\n",
       "      <td>4.000</td>\n",
       "    </tr>\n",
       "    <tr>\n",
       "      <th>3</th>\n",
       "      <td>7</td>\n",
       "      <td>4.4176</td>\n",
       "      <td>3.616020</td>\n",
       "      <td>0.000</td>\n",
       "      <td>N</td>\n",
       "      <td>1.0</td>\n",
       "      <td>4.000</td>\n",
       "    </tr>\n",
       "    <tr>\n",
       "      <th>4</th>\n",
       "      <td>7</td>\n",
       "      <td>1.9076</td>\n",
       "      <td>1.805299</td>\n",
       "      <td>0.000</td>\n",
       "      <td>N</td>\n",
       "      <td>1.0</td>\n",
       "      <td>4.000</td>\n",
       "    </tr>\n",
       "    <tr>\n",
       "      <th>...</th>\n",
       "      <td>...</td>\n",
       "      <td>...</td>\n",
       "      <td>...</td>\n",
       "      <td>...</td>\n",
       "      <td>...</td>\n",
       "      <td>...</td>\n",
       "      <td>...</td>\n",
       "    </tr>\n",
       "    <tr>\n",
       "      <th>7995</th>\n",
       "      <td>7</td>\n",
       "      <td>24.4976</td>\n",
       "      <td>25.301296</td>\n",
       "      <td>-122.070</td>\n",
       "      <td>N</td>\n",
       "      <td>1.0</td>\n",
       "      <td>0.097</td>\n",
       "    </tr>\n",
       "    <tr>\n",
       "      <th>7996</th>\n",
       "      <td>7</td>\n",
       "      <td>21.9876</td>\n",
       "      <td>23.490575</td>\n",
       "      <td>-122.070</td>\n",
       "      <td>N</td>\n",
       "      <td>1.0</td>\n",
       "      <td>0.097</td>\n",
       "    </tr>\n",
       "    <tr>\n",
       "      <th>7997</th>\n",
       "      <td>7</td>\n",
       "      <td>21.9876</td>\n",
       "      <td>26.201235</td>\n",
       "      <td>-123.635</td>\n",
       "      <td>N</td>\n",
       "      <td>1.0</td>\n",
       "      <td>0.097</td>\n",
       "    </tr>\n",
       "    <tr>\n",
       "      <th>7998</th>\n",
       "      <td>13</td>\n",
       "      <td>20.0800</td>\n",
       "      <td>23.490575</td>\n",
       "      <td>-122.070</td>\n",
       "      <td>Al</td>\n",
       "      <td>1.0</td>\n",
       "      <td>0.097</td>\n",
       "    </tr>\n",
       "    <tr>\n",
       "      <th>7999</th>\n",
       "      <td>13</td>\n",
       "      <td>20.0800</td>\n",
       "      <td>26.201235</td>\n",
       "      <td>-123.635</td>\n",
       "      <td>Al</td>\n",
       "      <td>1.0</td>\n",
       "      <td>0.097</td>\n",
       "    </tr>\n",
       "  </tbody>\n",
       "</table>\n",
       "<p>8000 rows × 7 columns</p>\n",
       "</div>"
      ],
      "text/plain": [
       "      atomic_number        a          b        c symbol  frac_occupancy  \\\n",
       "0                13   2.5100   0.905360   -1.565     Al             1.0   \n",
       "1                13   2.5100   3.616020    0.000     Al             1.0   \n",
       "2                 7   4.4176   0.905360   -1.565      N             1.0   \n",
       "3                 7   4.4176   3.616020    0.000      N             1.0   \n",
       "4                 7   1.9076   1.805299    0.000      N             1.0   \n",
       "...             ...      ...        ...      ...    ...             ...   \n",
       "7995              7  24.4976  25.301296 -122.070      N             1.0   \n",
       "7996              7  21.9876  23.490575 -122.070      N             1.0   \n",
       "7997              7  21.9876  26.201235 -123.635      N             1.0   \n",
       "7998             13  20.0800  23.490575 -122.070     Al             1.0   \n",
       "7999             13  20.0800  26.201235 -123.635     Al             1.0   \n",
       "\n",
       "      wobble  \n",
       "0      4.000  \n",
       "1      4.000  \n",
       "2      4.000  \n",
       "3      4.000  \n",
       "4      4.000  \n",
       "...      ...  \n",
       "7995   0.097  \n",
       "7996   0.097  \n",
       "7997   0.097  \n",
       "7998   0.097  \n",
       "7999   0.097  \n",
       "\n",
       "[8000 rows x 7 columns]"
      ]
     },
     "execution_count": 15,
     "metadata": {},
     "output_type": "execute_result"
    }
   ],
   "source": [
    "structure.atoms"
   ]
  },
  {
   "cell_type": "code",
   "execution_count": 6,
   "metadata": {},
   "outputs": [],
   "source": [
    "structure.write_xyz(path / 'AlN-wobble.xyz')"
   ]
  },
  {
   "cell_type": "code",
   "execution_count": 22,
   "metadata": {},
   "outputs": [
    {
     "data": {
      "text/plain": [
       "Vec3([ 25.1       ,  27.10659515, 125.2       ])"
      ]
     },
     "execution_count": 22,
     "metadata": {},
     "output_type": "execute_result"
    }
   ],
   "source": [
    "structure.cell_size"
   ]
  },
  {
   "cell_type": "code",
   "execution_count": 31,
   "metadata": {},
   "outputs": [],
   "source": [
    "structure.atoms['a'] /= structure.cell_size[0]\n",
    "structure.atoms['b'] /= structure.cell_size[1]\n",
    "structure.atoms['c'] /= structure.cell_size[2]"
   ]
  },
  {
   "cell_type": "code",
   "execution_count": 32,
   "metadata": {},
   "outputs": [],
   "source": [
    "fmt = \"    - {{ x: {x}, y: {y}, z: {z}, elem: {elem}, wobble: {wobble} }}\\n\"\n",
    "\n",
    "#yaml = \"\\n\".join(fmt.format(i=row.Index, elem=row.symbol, atomic=row.atomic_number, x=row.a, y=row.b, z=row.c, wobble=row.wobble, frac_occupancy=row.frac_occupancy) for row in structure.atoms.itertuples())\n",
    "\n",
    "with open(path / 'AlN-tc-raw.yaml', 'w') as f:\n",
    "    f.writelines(fmt.format(i=row.Index, elem=row.symbol, atomic=row.atomic_number, x=row.a, y=row.b, z=row.c, wobble=row.wobble, frac_occupancy=row.frac_occupancy) for row in structure.atoms.itertuples())"
   ]
  },
  {
   "cell_type": "code",
   "execution_count": null,
   "metadata": {},
   "outputs": [],
   "source": [
    "yaml"
   ]
  },
  {
   "cell_type": "code",
   "execution_count": 34,
   "metadata": {},
   "outputs": [
    {
     "data": {
      "text/plain": [
       "0.9259739137690999"
      ]
     },
     "execution_count": 34,
     "metadata": {},
     "output_type": "execute_result"
    }
   ],
   "source": [
    "structure.cell_size[0] / structure.cell_size[1]"
   ]
  },
  {
   "cell_type": "code",
   "execution_count": null,
   "metadata": {},
   "outputs": [],
   "source": []
  }
 ],
 "metadata": {
  "kernelspec": {
   "display_name": "Python 3.10.5 ('venv': venv)",
   "language": "python",
   "name": "python3"
  },
  "language_info": {
   "name": "python",
   "version": "3.10.5"
  },
  "orig_nbformat": 4,
  "vscode": {
   "interpreter": {
    "hash": "3b4510b6594d2264a4ec28a0d4157eaeef87167a073021e04563548f9f8d20fd"
   }
  }
 },
 "nbformat": 4,
 "nbformat_minor": 2
}
