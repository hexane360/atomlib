{
  "cells": [
    {
      "cell_type": "code",
      "execution_count": 1,
      "metadata": {},
      "outputs": [],
      "source": [
        "%reload_ext autoreload\n",
        "%autoreload 2\n",
        "%matplotlib widget\n",
        "\n",
        "from pathlib import Path\n",
        "\n",
        "import numpy\n",
        "\n",
        "from structlib import AtomCollection\n"
      ]
    },
    {
      "cell_type": "code",
      "execution_count": 2,
      "metadata": {},
      "outputs": [],
      "source": [
        "from structlib import make\n",
        "\n",
        "aln = make.wurtzite('AlN', 3.13, 5.02, d=0.38)\n",
        "aln"
      ]
    },
    {
      "cell_type": "code",
      "execution_count": 3,
      "metadata": {},
      "outputs": [],
      "source": [
        "si = make.fcc('Si', 3.1, cell='prim')\n",
        "si"
      ]
    },
    {
      "cell_type": "code",
      "execution_count": 4,
      "metadata": {},
      "outputs": [],
      "source": [
        "sup = aln.repeat((2, 2, 2), explode=True)"
      ]
    },
    {
      "cell_type": "code",
      "execution_count": 8,
      "metadata": {},
      "outputs": [],
      "source": [
        "from structlib.visualize import show_atoms_mpl_3d\n",
        "\n",
        "show_atoms_mpl_3d(sup);"
      ]
    },
    {
      "cell_type": "code",
      "execution_count": 6,
      "metadata": {},
      "outputs": [],
      "source": [
        "path = Path(\"~/Documents/research/AlN/ptycho\").expanduser()\n",
        "structure = AtomCollection.read(path / 'AlN-super.xsf');\n",
        "structure"
      ]
    },
    {
      "cell_type": "code",
      "execution_count": 29,
      "metadata": {},
      "outputs": [],
      "source": [
        "structure.atoms.describe()"
      ]
    },
    {
      "cell_type": "code",
      "execution_count": 30,
      "metadata": {},
      "outputs": [],
      "source": [
        "structure.atoms['c'] += structure.cell_size[2]\n",
        "\n",
        "structure.atoms['wobble'] = 0.097  # sqrt(0.30e-2 + 0.65e-2)\n",
        "\n",
        "structure.atoms.loc[structure.atoms['c'] < 25.2, 'wobble'] = 4."
      ]
    },
    {
      "cell_type": "code",
      "execution_count": 15,
      "metadata": {},
      "outputs": [],
      "source": [
        "structure.atoms"
      ]
    },
    {
      "cell_type": "code",
      "execution_count": 6,
      "metadata": {},
      "outputs": [],
      "source": [
        "structure.write_xyz(path / 'AlN-wobble.xyz')"
      ]
    },
    {
      "cell_type": "code",
      "execution_count": 22,
      "metadata": {},
      "outputs": [],
      "source": [
        "structure.cell_size"
      ]
    },
    {
      "cell_type": "code",
      "execution_count": 31,
      "metadata": {},
      "outputs": [],
      "source": [
        "structure.atoms['a'] /= structure.cell_size[0]\n",
        "structure.atoms['b'] /= structure.cell_size[1]\n",
        "structure.atoms['c'] /= structure.cell_size[2]"
      ]
    },
    {
      "cell_type": "code",
      "execution_count": 32,
      "metadata": {},
      "outputs": [],
      "source": [
        "fmt = \"    - {{ x: {x}, y: {y}, z: {z}, elem: {elem}, wobble: {wobble} }}\\n\"\n",
        "\n",
        "#yaml = \"\\n\".join(fmt.format(i=row.Index, elem=row.symbol, atomic=row.atomic_number, x=row.a, y=row.b, z=row.c, wobble=row.wobble, frac_occupancy=row.frac_occupancy) for row in structure.atoms.itertuples())\n",
        "\n",
        "with open(path / 'AlN-tc-raw.yaml', 'w') as f:\n",
        "    f.writelines(fmt.format(i=row.Index, elem=row.symbol, atomic=row.atomic_number, x=row.a, y=row.b, z=row.c, wobble=row.wobble, frac_occupancy=row.frac_occupancy) for row in structure.atoms.itertuples())"
      ]
    },
    {
      "cell_type": "code",
      "execution_count": null,
      "metadata": {},
      "outputs": [],
      "source": [
        "yaml"
      ]
    },
    {
      "cell_type": "code",
      "execution_count": 34,
      "metadata": {},
      "outputs": [],
      "source": [
        "structure.cell_size[0] / structure.cell_size[1]"
      ]
    },
    {
      "cell_type": "code",
      "execution_count": null,
      "metadata": {},
      "outputs": [],
      "source": []
    }
  ],
  "metadata": {
    "kernelspec": {
      "display_name": "Python 3.10.5 ('venv': venv)",
      "language": "python",
      "name": "python3"
    },
    "language_info": {
      "codemirror_mode": {
        "name": "ipython",
        "version": 3
      },
      "file_extension": ".py",
      "mimetype": "text/x-python",
      "name": "python",
      "nbconvert_exporter": "python",
      "pygments_lexer": "ipython3",
      "version": "3.10.6"
    },
    "orig_nbformat": 4,
    "vscode": {
      "interpreter": {
        "hash": "3b4510b6594d2264a4ec28a0d4157eaeef87167a073021e04563548f9f8d20fd"
      }
    }
  },
  "nbformat": 4,
  "nbformat_minor": 2
}
